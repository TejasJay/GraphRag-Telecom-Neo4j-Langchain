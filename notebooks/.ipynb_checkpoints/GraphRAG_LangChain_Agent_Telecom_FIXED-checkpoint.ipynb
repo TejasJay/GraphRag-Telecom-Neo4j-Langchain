{
 "cells": [
  {
   "cell_type": "markdown",
   "id": "cbc53600",
   "metadata": {},
   "source": [
    "# 🧠 Graph RAG + Vector RAG + LangChain Agent for Telecom Projects\n",
    "This notebook combines a Graph-based schema (Neo4j), Vector-based document retrieval (Qdrant), and an LLM agent pipeline using LangChain to build a hybrid RAG system for telecom project management data."
   ]
  },
  {
   "cell_type": "code",
   "execution_count": null,
   "id": "8570571b",
   "metadata": {},
   "outputs": [],
   "source": [
    "!pip install neo4j pandas openai langchain qdrant-client tiktoken"
   ]
  },
  {
   "cell_type": "code",
   "execution_count": null,
   "id": "5b0787af",
   "metadata": {},
   "outputs": [],
   "source": [
    "import pandas as pd\n",
    "templates_df = pd.read_csv('templates.csv')\n",
    "projects_df = pd.read_csv('projects_tasks.csv')\n",
    "templates_df.head(), projects_df.head()"
   ]
  },
  {
   "cell_type": "code",
   "execution_count": null,
   "id": "31d90e2e",
   "metadata": {},
   "outputs": [],
   "source": [
    "from neo4j import GraphDatabase\n",
    "uri = \"bolt://localhost:7687\"\n",
    "auth = (\"neo4j\", \"password\")\n",
    "driver = GraphDatabase.driver(uri, auth=auth)\n",
    "\n",
    "def run_query(tx, query):\n",
    "    tx.run(query)\n",
    "\n",
    "with driver.session() as session:\n",
    "    for _, row in projects_df.iterrows():\n",
    "        query = f\"\"\"\n",
    "        MERGE (p:Project {{id: '{row.project_id}'}})\n",
    "        MERGE (t:Task {{id: '{row.task_id}', name: '{row.task_name}', status: '{row.status}', risk: '{row.risk}'}})\n",
    "        MERGE (tpl:Template {{id: '{row.template_id}'}})\n",
    "        MERGE (p)-[:HAS_TASK]->(t)\n",
    "        MERGE (t)-[:USES_TEMPLATE]->(tpl)\n",
    "        \"\"\"\n",
    "        session.write_transaction(run_query, query)"
   ]
  },
  {
   "cell_type": "code",
   "execution_count": null,
   "id": "ad6c20a9",
   "metadata": {},
   "outputs": [],
   "source": [
    "from qdrant_client import QdrantClient\n",
    "from langchain.embeddings.openai import OpenAIEmbeddings\n",
    "from langchain.vectorstores import Qdrant\n",
    "\n",
    "qdrant = QdrantClient(host=\"localhost\", port=6333)\n",
    "embedding_model = OpenAIEmbeddings()\n",
    "\n",
    "texts = [f\"{row.template_name} - Roles: {row.required_roles}\" for _, row in templates_df.iterrows()]\n",
    "metadata = templates_df.to_dict(orient='records')\n",
    "\n",
    "vectorstore = Qdrant.from_texts(\n",
    "    texts, embedding=embedding_model, metadatas=metadata,\n",
    "    collection_name=\"telecom_templates\", qdrant_client=qdrant\n",
    ")"
   ]
  },
  {
   "cell_type": "code",
   "execution_count": null,
   "id": "3c6f8267",
   "metadata": {},
   "outputs": [],
   "source": [
    "from langchain.agents import initialize_agent, Tool\n",
    "from langchain.chat_models import ChatOpenAI\n",
    "from langchain.chains.graph_qa.cypher import GraphCypherQAChain\n",
    "from langchain.chains import RetrievalQA\n",
    "from langchain.graphs import Neo4jGraph\n",
    "\n",
    "llm = ChatOpenAI(temperature=0, model_name=\"gpt-4\")\n",
    "graph = Neo4jGraph(url=uri, username=\"neo4j\", password=\"password\")\n",
    "cypher_chain = GraphCypherQAChain.from_llm(llm, graph=graph, verbose=True)\n",
    "retriever_chain = RetrievalQA.from_chain_type(llm=llm, retriever=vectorstore.as_retriever(), verbose=True)\n",
    "\n",
    "tools = [\n",
    "    Tool(name=\"Graph QA\", func=cypher_chain.run, description=\"Use for schema and task relationships\"),\n",
    "    Tool(name=\"Template Lookup\", func=retriever_chain.run, description=\"Use for template descriptions\")\n",
    "]\n",
    "\n",
    "agent = initialize_agent(tools, llm, agent=\"zero-shot-react-description\", verbose=True)"
   ]
  },
  {
   "cell_type": "code",
   "execution_count": null,
   "id": "0d05a964",
   "metadata": {},
   "outputs": [],
   "source": [
    "agent.run(\"What are the risk levels in project PROJ-00001 and what template does it use?\")"
   ]
  }
 ],
 "metadata": {},
 "nbformat": 4,
 "nbformat_minor": 5
}
